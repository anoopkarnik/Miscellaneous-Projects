{
 "cells": [
  {
   "cell_type": "markdown",
   "metadata": {},
   "source": [
    " # Twitter API\n"
   ]
  },
  {
   "cell_type": "code",
   "execution_count": 6,
   "metadata": {
    "collapsed": true
   },
   "outputs": [],
   "source": [
    "import twitter \n",
    "import urlparse\n",
    "from pprint import pprint as pp"
   ]
  },
  {
   "cell_type": "code",
   "execution_count": 5,
   "metadata": {
    "collapsed": false
   },
   "outputs": [],
   "source": [
    "class TwitterAPI(object):\n",
    "    def __init__(self):\n",
    "        consumer_key = \"cAbLWtUerXPNmkyc0ITw0GYVP\"\n",
    "        consumer_secret =\"8uXif247frgCiq5XnFgUiFb20KCloKC7aOnmLhCtkVSwKiZlQG\"\n",
    "        access_token = \"277628349-bKVkguWOd2R6Y1cZe6YIvX96g7jpezy7pckQuQbt\"\n",
    "        access_secret = \"9WaESyl7jkIYtRZg2NXr9gVKKGSFLpz3TB33tSNusBkA0\"\n",
    "        self.consumer_key = consumer_key\n",
    "        self.consumer_secret = consumer_secret\n",
    "        self.access_token = access_token\n",
    "        self.access_secret = access_secret\n",
    "        self.auth = twitter.oauth.OAuth(access_token, access_secret,\n",
    "                                       consumer_key,consumer_secret)\n",
    "        self.retries = 3\n",
    "        self.a = twitter.Twitter(auth=self.auth)\n",
    "    def searchTwitter(self, q, max_res = 10,**kwargs):\n",
    "        search_results = self.a.search.tweets(q=q, count =10 , **kwargs)\n",
    "        statuses = search_results['statuses']\n",
    "        max_results = min(1000, max_res)\n",
    "        for _ in range(10):\n",
    "            try:\n",
    "                next_results = search_results['search_metadata']['next_results']\n",
    "            except keyerror as e:\n",
    "                break\n",
    "            next_results = urlparse.parse_qsl(next_results[1:])\n",
    "            kwargs = dict(next_results)\n",
    "            search_results = self.a.search.tweets(**kwargs)\n",
    "            statuses += search_results['statuses']\n",
    "            if len(statuses) >max_results:\n",
    "                break\n",
    "        return statuses\n",
    "    def parseTweets(self, statuses):\n",
    "        return [ (status['id'], status['created_at'],status['user']['id'],\n",
    "                 status['user']['name'],status['text'],url['expanded_url'])\n",
    "               for status in statuses\n",
    "               for url in status['entities']['urls']]\n",
    "    "
   ]
  },
  {
   "cell_type": "code",
   "execution_count": 41,
   "metadata": {
    "collapsed": true
   },
   "outputs": [],
   "source": [
    "t = TwitterAPI()\n",
    "q = \"ApacheSpark\"\n",
    "tsearch =t.searchTwitter(q)\n",
    "pp(tsearch[1])\n",
    "\n",
    "tparsed = t.parseTweets(tsearch)\n",
    "pp(tparsed)"
   ]
  },
  {
   "cell_type": "markdown",
   "metadata": {
    "collapsed": false
   },
   "source": [
    "# Github API"
   ]
  },
  {
   "cell_type": "code",
   "execution_count": 1,
   "metadata": {
    "collapsed": false
   },
   "outputs": [],
   "source": [
    "from github import Github\n",
    "from pprint import pprint as pp"
   ]
  },
  {
   "cell_type": "code",
   "execution_count": 2,
   "metadata": {
    "collapsed": true
   },
   "outputs": [],
   "source": [
    "ACCESS_TOKEN = \"2bcc62867e3bf16f7acbabb2daccb6f6ba3e2b67\"\n",
    "USER = 'apache'\n",
    "REPO = 'spark'\n",
    "g = Github(ACCESS_TOKEN, per_page=100)"
   ]
  },
  {
   "cell_type": "code",
   "execution_count": 4,
   "metadata": {
    "collapsed": false
   },
   "outputs": [],
   "source": [
    "user = g.get_user(USER)\n",
    "repo = g.get_repo(REPO)\n",
    "len(repos_apache)\n",
    "repos_apache = [repo.name for repo in g.get_user('apache').get_repos()]\n",
    "pp(repo.get_languages())\n",
    "stargazers = [s for s in repo.get_stargazers()]\n",
    "print \"Number of Stargazers \" , len(stargazers)\n",
    "[stargazers[i].login for i in range (0,20)]\n"
   ]
  },
  {
   "cell_type": "markdown",
   "metadata": {
    "collapsed": true
   },
   "source": [
    "# Meetup API"
   ]
  },
  {
   "cell_type": "code",
   "execution_count": 1,
   "metadata": {
    "collapsed": false
   },
   "outputs": [],
   "source": [
    "import json\n",
    "import mimeparse\n",
    "import urllib\n",
    "import requests\n",
    "from pprint import pprint as pp\n"
   ]
  },
  {
   "cell_type": "code",
   "execution_count": 8,
   "metadata": {
    "collapsed": false
   },
   "outputs": [],
   "source": [
    "MEETUP_API_HOST ='https://api.meetup.com'\n",
    "EVENTS_URL=MEETUP_API_HOST+'/2/events.json'\n",
    "MEMBERS_URL=MEETUP_API_HOST+'/2/members.json'\n",
    "GROUP_URL=MEETUP_API_HOST+'/2/groups.json'\n",
    "RSVPS_URL=MEETUP_API_HOST+'/2/rsvps.json'\n",
    "PHOTOS_URL=MEETUP_API_HOST+'/2/photos.json'\n",
    "GROUP_URLNAME='London-Machine-Learning-Meetup'"
   ]
  },
  {
   "cell_type": "code",
   "execution_count": 28,
   "metadata": {
    "collapsed": false
   },
   "outputs": [],
   "source": [
    "class MeetupAPI(object):\n",
    "    def __init__(self,api_key, num_past_events = 10 , http_timeout = 5,\n",
    "                http_retries = 2):\n",
    "        self._api_key = api_key\n",
    "        self._num_past_events = num_past_events \n",
    "        self._http_timeout = http_timeout\n",
    "        self._http_retries = http_retries\n",
    "    def get_past_events(self):\n",
    "        params ={'key' :self._api_key,'group_url_name':GROUP_URL,\n",
    "                'status':'past', 'desc' : 'true'}\n",
    "        if self._num_past_events:\n",
    "            params['page'] = str(self._num_past_events)\n",
    "        query=urllib.urlencode(params)\n",
    "        url='{0}?{1}'.format(EVENTS_URL,query)\n",
    "        response=requests.get(url,timeout=self._http_timeout)\n",
    "        data=response.json()['results']\n",
    "        return data\n",
    "    def get_members(self):\n",
    "        params = {'key' : self._api_key, 'group_urlname':GROUP_URLNAME,\n",
    "                  'offset' : '0','format' : 'json','page' : '100',\n",
    "                  'order' : 'name'}\n",
    "        query = urllib.urlencode(params)\n",
    "        url = '{0}?{1}'.format(MEMBERS_URL, query)\n",
    "        response = requests.get(url,timeout = self._http_timeout)\n",
    "        data = response.json()['results']\n",
    "        return data\n",
    "    def get_groups_by_member(self):\n",
    "        params = {'key' :  self._api_key,'member_id' : member_id,\n",
    "                 'offset' : '0', 'format' :'json', 'page' : '100',\n",
    "                 'order' : 'id'}\n",
    "        query = urllib.urlencode(params)\n",
    "        url = '{0}?{1}',format(GROUPS_URL, query)\n",
    "        response = requests.get(url,timeout = self._http_timeout)\n",
    "        data = response.json()['results']\n",
    "        return data     \n",
    "        \n",
    "        "
   ]
  },
  {
   "cell_type": "code",
   "execution_count": 29,
   "metadata": {
    "collapsed": true
   },
   "outputs": [],
   "source": [
    "m = MeetupAPI(api_key = '6f4622777f6e14362a3b67332f437526')\n",
    "last_meetups = m.get_past_events()\n",
    "pp(last_meetups[5])\n",
    "members = m.get_members()\n",
    "pp(members[5])"
   ]
  },
  {
   "cell_type": "markdown",
   "metadata": {
    "collapsed": false
   },
   "source": [
    "# Yelp API"
   ]
  },
  {
   "cell_type": "code",
   "execution_count": 2,
   "metadata": {
    "collapsed": false
   },
   "outputs": [],
   "source": [
    "from yelp.client import Client\n",
    "from yelp.oauth1_authenticator import Oauth1Authenticator\n",
    "\n",
    "auth = Oauth1Authenticator(\n",
    "    consumer_key='NXN93OR84IV3um45SExHqw',\n",
    "    consumer_secret='BHwSCrPgjPVINZOksaAHnX8Qv1U',\n",
    "    token='Ti5UoUuOKVWeCiJuViWx8O-wJF05-UO3',\n",
    "    token_secret='_8w3smiMiwOh-_muPdtnD3jHmlI'\n",
    ")\n",
    "\n",
    "client = Client(auth)"
   ]
  },
  {
   "cell_type": "code",
   "execution_count": 17,
   "metadata": {
    "collapsed": false
   },
   "outputs": [],
   "source": [
    "class YelpAPI(object):\n",
    "    def __init__(self):\n",
    "        consumer_key='NXN93OR84IV3um45SExHqw'\n",
    "        consumer_secret='BHwSCrPgjPVINZOksaAHnX8Qv1U'\n",
    "        token='Ti5UoUuOKVWeCiJuViWx8O-wJF05-UO3'\n",
    "        token_secret='_8w3smiMiwOh-_muPdtnD3jHmlI'\n",
    "        self.consumer_key = consumer_key\n",
    "        self.consumer_secret = consumer_secret\n",
    "        self.token = token\n",
    "        self.token_secret = token_secret\n",
    "        self.auth = Oauth1Authenticator(consumer_key,consumer_secret,\n",
    "                                   token,token_secret)\n",
    "        self.client = Client(auth)\n",
    "    def get_business(category,location):\n",
    "        options =  'category=%s&location=%s&sort=1' % (category,location)\n",
    "        url = 'http://api.yelp.com/v2/search?' + options\n",
    "\n",
    "\n"
   ]
  },
  {
   "cell_type": "markdown",
   "metadata": {},
   "source": [
    "# CSV Data"
   ]
  },
  {
   "cell_type": "code",
   "execution_count": 8,
   "metadata": {
    "collapsed": true
   },
   "outputs": [],
   "source": [
    "import collections as c"
   ]
  },
  {
   "cell_type": "code",
   "execution_count": 9,
   "metadata": {
    "collapsed": false
   },
   "outputs": [],
   "source": [
    "class IO_csv(object):\n",
    "    def __init__(self,filepath, filename, filesuffix = 'csv'):\n",
    "        self.filepath = filepath\n",
    "        self.filename = filename\n",
    "        self.filesuffix = filesuffix\n",
    "    def save(self, data, NTname, fields):\n",
    "        NTuple = c.namedtuple(NTname, fields)\n",
    "        if os.path.isfile('{0}/{1}.{2}'.format(self.filepath,self.filename,\n",
    "                                              self.filesuffix)):\n",
    "            with open('{0}/{1}.{2}'.format(self.filepath,self.filename,\n",
    "                                           self.filesuffix),'ab') as f:\n",
    "                writer = csv.writer(f)\n",
    "                writer.writerow(fields)\n",
    "                writer.writerows([row for row in map(NTuple._make,data)])\n",
    "        else:\n",
    "            with open('{0}/{1}.{2}'.format(self.filepath,self.filename,\n",
    "                                           self.filesuffix),'wb') as f:\n",
    "                writer = csv.writer(f)\n",
    "                writer.writerow(fields)\n",
    "                writer.writerows([row for row in map(NTuple._make,data)])\n",
    "    def load(self, NTname,fields):\n",
    "        NTuple = c.namedtuple(NTname, fields)\n",
    "        with open('{0}/{1}.{2}'.format(self.filepath, self.filename,\n",
    "                                      self.filesuffix),'rU') as f:\n",
    "            reader = csv.reader(f)\n",
    "            for row in map(NTuple._make, reader):\n",
    "                yield row\n",
    "fields01 = ['id','created_at','user_id','user_name','tweet_text','url']\n",
    "Tweet01 = c.namedtuple('Tweet01','fields')\n",
    "def parse_tweet(data):\n",
    "    return Tweet01(id = data.get('id',None),\n",
    "                   created_at = data.get('created_at',None),\n",
    "                   user_id = data.get('user_id',None),\n",
    "                  user_name = data.get('user_name',None),\n",
    "                  tweet_text = data.get('tweet_text',None),\n",
    "                  url = data.get('url',None))\n",
    "\n",
    "    "
   ]
  },
  {
   "cell_type": "markdown",
   "metadata": {},
   "source": [
    "# JSON Data"
   ]
  },
  {
   "cell_type": "code",
   "execution_count": 10,
   "metadata": {
    "collapsed": true
   },
   "outputs": [],
   "source": [
    "class IO_json(object):\n",
    "    def __init__(self,filepath, filename, filesuffix = 'csv'):\n",
    "        self.filepath = filepath\n",
    "        self.filename = filename\n",
    "        self.filesuffix = filesuffix\n",
    "    def save(self, data):\n",
    "        if os.path.isfile('{0}/{1}.{2}'.format(self.filepath,self.filename,\n",
    "                                              self.filesuffix)):\n",
    "            with io.open('{0}/{1}.{2}'.format(self.filepath,self.filename,\n",
    "                                           self.filesuffix),'a',\n",
    "                        encoding = 'utf-8') as f:\n",
    "                f.write(unicode(json.dumps(data,ensure_ascii = False)))\n",
    "        else:\n",
    "            with io.open('{0}/{1}.{2}'.format(self.filepath,self.filename,\n",
    "                                           self.filesuffix),'w',\n",
    "                        encoding = 'utf-8') as f:\n",
    "                f.write(unicode(json.dumps(data,ensure_ascii = False)))\n",
    "    def load(self):\n",
    "        with open('{0}/{1}.{2}'.format(self.filepath, self.filename,\n",
    "                                      self.filesuffix),encoding ='utf-8') as f:\n",
    "            return f.read()\n"
   ]
  },
  {
   "cell_type": "markdown",
   "metadata": {
    "collapsed": true
   },
   "source": [
    "# Mongo DB"
   ]
  },
  {
   "cell_type": "code",
   "execution_count": 3,
   "metadata": {
    "collapsed": true
   },
   "outputs": [],
   "source": [
    "from pymongo import MongoClient as mc"
   ]
  },
  {
   "cell_type": "code",
   "execution_count": 4,
   "metadata": {
    "collapsed": true
   },
   "outputs": [],
   "source": [
    "class IO_Mongo(object):\n",
    "    def __init__(self, db = 'twtr_db', coll = 'twtr_coll', **conn):\n",
    "        self.client = mc(**conn)\n",
    "        self.db = self.client[db]\n",
    "        self.coll = self.client[coll]\n",
    "    def save(self, data):\n",
    "        return self.coll.insert(data)\n",
    "    def load(self, return_cursor=False,criteria=None,projection=None):\n",
    "        if criteria is None:\n",
    "            criteria={}\n",
    "        if projection is None:\n",
    "            cursor=self.coll.find(criteria)\n",
    "        else:\n",
    "            cursor=self.coll.find(criteria,projection)\n",
    "        if return_cursor:\n",
    "            return cursor\n",
    "        else:\n",
    "            return[item for item in cursor]    "
   ]
  },
  {
   "cell_type": "code",
   "execution_count": null,
   "metadata": {
    "collapsed": true
   },
   "outputs": [],
   "source": []
  }
 ],
 "metadata": {
  "kernelspec": {
   "display_name": "Python 2",
   "language": "python",
   "name": "python2"
  },
  "language_info": {
   "codemirror_mode": {
    "name": "ipython",
    "version": 2
   },
   "file_extension": ".py",
   "mimetype": "text/x-python",
   "name": "python",
   "nbconvert_exporter": "python",
   "pygments_lexer": "ipython2",
   "version": "2.7.11"
  }
 },
 "nbformat": 4,
 "nbformat_minor": 0
}
